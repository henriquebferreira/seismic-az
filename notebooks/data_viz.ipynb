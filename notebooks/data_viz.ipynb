{
 "cells": [
  {
   "cell_type": "code",
   "execution_count": 16,
   "metadata": {},
   "outputs": [
    {
     "name": "stdout",
     "output_type": "stream",
     "text": [
      "The autoreload extension is already loaded. To reload it, use:\n",
      "  %reload_ext autoreload\n"
     ]
    }
   ],
   "source": [
    "import pandas as pd\n",
    "import numpy as np\n",
    "import datetime as dt\n",
    "import folium\n",
    "from folium.plugins import HeatMap, HeatMapWithTime\n",
    "from branca.element import Figure\n",
    "\n",
    "# Import modules from current workspace\n",
    "import sys\n",
    "sys.path.append('..')\n",
    "%load_ext autoreload\n",
    "%autoreload 2\n",
    "\n",
    "from crawlers.ivar import IvarCrawler\n",
    "from crawlers.ipma import IpmaCrawler"
   ]
  },
  {
   "cell_type": "markdown",
   "metadata": {},
   "source": [
    "# Azores Seismic Data"
   ]
  },
  {
   "cell_type": "markdown",
   "metadata": {},
   "source": [
    "### IPMA"
   ]
  },
  {
   "cell_type": "code",
   "execution_count": 17,
   "metadata": {},
   "outputs": [],
   "source": [
    "ipma_crawler = IpmaCrawler(\"azores\")\n",
    "ipma_crawler.crawl()\n",
    "ipma_df = ipma_crawler.pandify_data()"
   ]
  },
  {
   "cell_type": "code",
   "execution_count": 18,
   "metadata": {},
   "outputs": [
    {
     "data": {
      "text/html": [
       "<div>\n",
       "<style scoped>\n",
       "    .dataframe tbody tr th:only-of-type {\n",
       "        vertical-align: middle;\n",
       "    }\n",
       "\n",
       "    .dataframe tbody tr th {\n",
       "        vertical-align: top;\n",
       "    }\n",
       "\n",
       "    .dataframe thead th {\n",
       "        text-align: right;\n",
       "    }\n",
       "</style>\n",
       "<table border=\"1\" class=\"dataframe\">\n",
       "  <thead>\n",
       "    <tr style=\"text-align: right;\">\n",
       "      <th></th>\n",
       "      <th>date</th>\n",
       "      <th>lat</th>\n",
       "      <th>lon</th>\n",
       "      <th>magnitude</th>\n",
       "      <th>magnitude_type</th>\n",
       "      <th>depth</th>\n",
       "      <th>degree</th>\n",
       "      <th>local</th>\n",
       "      <th>obs_region</th>\n",
       "      <th>source</th>\n",
       "      <th>updated_at</th>\n",
       "    </tr>\n",
       "  </thead>\n",
       "  <tbody>\n",
       "    <tr>\n",
       "      <th>772</th>\n",
       "      <td>2022-04-03 20:51:40</td>\n",
       "      <td>38.679</td>\n",
       "      <td>-28.138</td>\n",
       "      <td>2.0</td>\n",
       "      <td>L</td>\n",
       "      <td>13</td>\n",
       "      <td>&lt;NA&gt;</td>\n",
       "      <td>&lt;NA&gt;</td>\n",
       "      <td>Ilha de S. Jorge (W)</td>\n",
       "      <td>IPMA</td>\n",
       "      <td>2022-04-03 22:00:00</td>\n",
       "    </tr>\n",
       "    <tr>\n",
       "      <th>771</th>\n",
       "      <td>2022-04-03 18:54:25</td>\n",
       "      <td>38.750</td>\n",
       "      <td>-28.315</td>\n",
       "      <td>2.0</td>\n",
       "      <td>L</td>\n",
       "      <td>6</td>\n",
       "      <td>&lt;NA&gt;</td>\n",
       "      <td>&lt;NA&gt;</td>\n",
       "      <td>W Rosais</td>\n",
       "      <td>IPMA</td>\n",
       "      <td>2022-04-03 22:00:00</td>\n",
       "    </tr>\n",
       "    <tr>\n",
       "      <th>770</th>\n",
       "      <td>2022-04-03 16:09:29</td>\n",
       "      <td>38.707</td>\n",
       "      <td>-28.191</td>\n",
       "      <td>2.0</td>\n",
       "      <td>L</td>\n",
       "      <td>0</td>\n",
       "      <td>&lt;NA&gt;</td>\n",
       "      <td>&lt;NA&gt;</td>\n",
       "      <td>Ilha de S. Jorge (W)</td>\n",
       "      <td>IPMA</td>\n",
       "      <td>2022-04-03 22:00:00</td>\n",
       "    </tr>\n",
       "    <tr>\n",
       "      <th>769</th>\n",
       "      <td>2022-04-03 15:21:32</td>\n",
       "      <td>38.698</td>\n",
       "      <td>-28.184</td>\n",
       "      <td>2.0</td>\n",
       "      <td>L</td>\n",
       "      <td>9</td>\n",
       "      <td>&lt;NA&gt;</td>\n",
       "      <td>&lt;NA&gt;</td>\n",
       "      <td>Ilha de S. Jorge (W)</td>\n",
       "      <td>IPMA</td>\n",
       "      <td>2022-04-03 22:00:00</td>\n",
       "    </tr>\n",
       "    <tr>\n",
       "      <th>768</th>\n",
       "      <td>2022-04-03 14:56:53</td>\n",
       "      <td>38.695</td>\n",
       "      <td>-28.197</td>\n",
       "      <td>2.5</td>\n",
       "      <td>L</td>\n",
       "      <td>10</td>\n",
       "      <td>&lt;NA&gt;</td>\n",
       "      <td>&lt;NA&gt;</td>\n",
       "      <td>Ilha de S. Jorge (W)</td>\n",
       "      <td>IPMA</td>\n",
       "      <td>2022-04-03 22:00:00</td>\n",
       "    </tr>\n",
       "  </tbody>\n",
       "</table>\n",
       "</div>"
      ],
      "text/plain": [
       "                   date     lat     lon  magnitude magnitude_type  depth  \\\n",
       "772 2022-04-03 20:51:40  38.679 -28.138        2.0              L     13   \n",
       "771 2022-04-03 18:54:25  38.750 -28.315        2.0              L      6   \n",
       "770 2022-04-03 16:09:29  38.707 -28.191        2.0              L      0   \n",
       "769 2022-04-03 15:21:32  38.698 -28.184        2.0              L      9   \n",
       "768 2022-04-03 14:56:53  38.695 -28.197        2.5              L     10   \n",
       "\n",
       "    degree local            obs_region source          updated_at  \n",
       "772   <NA>  <NA>  Ilha de S. Jorge (W)   IPMA 2022-04-03 22:00:00  \n",
       "771   <NA>  <NA>              W Rosais   IPMA 2022-04-03 22:00:00  \n",
       "770   <NA>  <NA>  Ilha de S. Jorge (W)   IPMA 2022-04-03 22:00:00  \n",
       "769   <NA>  <NA>  Ilha de S. Jorge (W)   IPMA 2022-04-03 22:00:00  \n",
       "768   <NA>  <NA>  Ilha de S. Jorge (W)   IPMA 2022-04-03 22:00:00  "
      ]
     },
     "execution_count": 18,
     "metadata": {},
     "output_type": "execute_result"
    }
   ],
   "source": [
    "ipma_df.head()"
   ]
  },
  {
   "cell_type": "markdown",
   "metadata": {},
   "source": [
    "### IVAR"
   ]
  },
  {
   "cell_type": "code",
   "execution_count": 19,
   "metadata": {},
   "outputs": [],
   "source": [
    "ivar_crawler = IvarCrawler()\n",
    "ivar_crawler.crawl()\n",
    "ivar_df = ivar_crawler.pandify_data()"
   ]
  },
  {
   "cell_type": "code",
   "execution_count": 20,
   "metadata": {},
   "outputs": [
    {
     "data": {
      "text/html": [
       "<div>\n",
       "<style scoped>\n",
       "    .dataframe tbody tr th:only-of-type {\n",
       "        vertical-align: middle;\n",
       "    }\n",
       "\n",
       "    .dataframe tbody tr th {\n",
       "        vertical-align: top;\n",
       "    }\n",
       "\n",
       "    .dataframe thead th {\n",
       "        text-align: right;\n",
       "    }\n",
       "</style>\n",
       "<table border=\"1\" class=\"dataframe\">\n",
       "  <thead>\n",
       "    <tr style=\"text-align: right;\">\n",
       "      <th></th>\n",
       "      <th>event_id</th>\n",
       "      <th>origin_agency</th>\n",
       "      <th>magnitude</th>\n",
       "      <th>date</th>\n",
       "      <th>lat</th>\n",
       "      <th>lon</th>\n",
       "      <th>sentidos</th>\n",
       "      <th>regioes</th>\n",
       "    </tr>\n",
       "  </thead>\n",
       "  <tbody>\n",
       "    <tr>\n",
       "      <th>539</th>\n",
       "      <td>20220403145633</td>\n",
       "      <td>AZO</td>\n",
       "      <td>2.2</td>\n",
       "      <td>2022-04-03 14:56:53.700</td>\n",
       "      <td>38.690</td>\n",
       "      <td>-28.201</td>\n",
       "      <td>[]</td>\n",
       "      <td>[S. Jorge]</td>\n",
       "    </tr>\n",
       "    <tr>\n",
       "      <th>538</th>\n",
       "      <td>20220403093831</td>\n",
       "      <td>AZO</td>\n",
       "      <td>3.1</td>\n",
       "      <td>2022-04-03 09:38:29.400</td>\n",
       "      <td>38.576</td>\n",
       "      <td>-29.583</td>\n",
       "      <td>[]</td>\n",
       "      <td>[W Faial]</td>\n",
       "    </tr>\n",
       "    <tr>\n",
       "      <th>537</th>\n",
       "      <td>20220403085520</td>\n",
       "      <td>AZO</td>\n",
       "      <td>2.1</td>\n",
       "      <td>2022-04-03 08:55:42.400</td>\n",
       "      <td>38.721</td>\n",
       "      <td>-29.073</td>\n",
       "      <td>[]</td>\n",
       "      <td>[W Faial]</td>\n",
       "    </tr>\n",
       "    <tr>\n",
       "      <th>536</th>\n",
       "      <td>20220403065305</td>\n",
       "      <td>AZO</td>\n",
       "      <td>2.0</td>\n",
       "      <td>2022-04-03 06:53:18.700</td>\n",
       "      <td>38.692</td>\n",
       "      <td>-28.195</td>\n",
       "      <td>[]</td>\n",
       "      <td>[S. Jorge]</td>\n",
       "    </tr>\n",
       "    <tr>\n",
       "      <th>535</th>\n",
       "      <td>20220403062027</td>\n",
       "      <td>AZO</td>\n",
       "      <td>3.0</td>\n",
       "      <td>2022-04-03 06:20:34.800</td>\n",
       "      <td>38.621</td>\n",
       "      <td>-29.420</td>\n",
       "      <td>[]</td>\n",
       "      <td>[W Faial]</td>\n",
       "    </tr>\n",
       "  </tbody>\n",
       "</table>\n",
       "</div>"
      ],
      "text/plain": [
       "           event_id origin_agency  magnitude                    date     lat  \\\n",
       "539  20220403145633           AZO        2.2 2022-04-03 14:56:53.700  38.690   \n",
       "538  20220403093831           AZO        3.1 2022-04-03 09:38:29.400  38.576   \n",
       "537  20220403085520           AZO        2.1 2022-04-03 08:55:42.400  38.721   \n",
       "536  20220403065305           AZO        2.0 2022-04-03 06:53:18.700  38.692   \n",
       "535  20220403062027           AZO        3.0 2022-04-03 06:20:34.800  38.621   \n",
       "\n",
       "        lon sentidos     regioes  \n",
       "539 -28.201       []  [S. Jorge]  \n",
       "538 -29.583       []   [W Faial]  \n",
       "537 -29.073       []   [W Faial]  \n",
       "536 -28.195       []  [S. Jorge]  \n",
       "535 -29.420       []   [W Faial]  "
      ]
     },
     "execution_count": 20,
     "metadata": {},
     "output_type": "execute_result"
    }
   ],
   "source": [
    "ivar_df.head()"
   ]
  },
  {
   "cell_type": "markdown",
   "metadata": {},
   "source": [
    "# Geospatial Analysis"
   ]
  },
  {
   "cell_type": "code",
   "execution_count": 37,
   "metadata": {},
   "outputs": [],
   "source": [
    "SAO_JORGE_COORDINATES = [38.674,-28.14]\n",
    "SAO_JORGE_START_DATE = dt.datetime(2022,3,18, tzinfo=dt.timezone.utc)"
   ]
  },
  {
   "cell_type": "code",
   "execution_count": 38,
   "metadata": {},
   "outputs": [],
   "source": [
    "st_jorge_crisis_df = ivar_df[ivar_df[\"time\"] > SAO_JORGE_START_DATE]"
   ]
  },
  {
   "cell_type": "markdown",
   "metadata": {},
   "source": [
    "## Heatmaps"
   ]
  },
  {
   "cell_type": "code",
   "execution_count": 40,
   "metadata": {},
   "outputs": [
    {
     "data": {
      "text/html": [
       "<iframe src=\"about:blank\" width=\"600\" height=\"400\"style=\"border:none !important;\" data-html=%3C%21DOCTYPE%20html%3E%0A%3Chead%3E%20%20%20%20%0A%20%20%20%20%3Cmeta%20http-equiv%3D%22content-type%22%20content%3D%22text/html%3B%20charset%3DUTF-8%22%20/%3E%0A%20%20%20%20%0A%20%20%20%20%20%20%20%20%3Cscript%3E%0A%20%20%20%20%20%20%20%20%20%20%20%20L_NO_TOUCH%20%3D%20false%3B%0A%20%20%20%20%20%20%20%20%20%20%20%20L_DISABLE_3D%20%3D%20false%3B%0A%20%20%20%20%20%20%20%20%3C/script%3E%0A%20%20%20%20%0A%20%20%20%20%3Cstyle%3Ehtml%2C%20body%20%7Bwidth%3A%20100%25%3Bheight%3A%20100%25%3Bmargin%3A%200%3Bpadding%3A%200%3B%7D%3C/style%3E%0A%20%20%20%20%3Cstyle%3E%23map%20%7Bposition%3Aabsolute%3Btop%3A0%3Bbottom%3A0%3Bright%3A0%3Bleft%3A0%3B%7D%3C/style%3E%0A%20%20%20%20%3Cscript%20src%3D%22https%3A//cdn.jsdelivr.net/npm/leaflet%401.6.0/dist/leaflet.js%22%3E%3C/script%3E%0A%20%20%20%20%3Cscript%20src%3D%22https%3A//code.jquery.com/jquery-1.12.4.min.js%22%3E%3C/script%3E%0A%20%20%20%20%3Cscript%20src%3D%22https%3A//maxcdn.bootstrapcdn.com/bootstrap/3.2.0/js/bootstrap.min.js%22%3E%3C/script%3E%0A%20%20%20%20%3Cscript%20src%3D%22https%3A//cdnjs.cloudflare.com/ajax/libs/Leaflet.awesome-markers/2.0.2/leaflet.awesome-markers.js%22%3E%3C/script%3E%0A%20%20%20%20%3Clink%20rel%3D%22stylesheet%22%20href%3D%22https%3A//cdn.jsdelivr.net/npm/leaflet%401.6.0/dist/leaflet.css%22/%3E%0A%20%20%20%20%3Clink%20rel%3D%22stylesheet%22%20href%3D%22https%3A//maxcdn.bootstrapcdn.com/bootstrap/3.2.0/css/bootstrap.min.css%22/%3E%0A%20%20%20%20%3Clink%20rel%3D%22stylesheet%22%20href%3D%22https%3A//maxcdn.bootstrapcdn.com/bootstrap/3.2.0/css/bootstrap-theme.min.css%22/%3E%0A%20%20%20%20%3Clink%20rel%3D%22stylesheet%22%20href%3D%22https%3A//maxcdn.bootstrapcdn.com/font-awesome/4.6.3/css/font-awesome.min.css%22/%3E%0A%20%20%20%20%3Clink%20rel%3D%22stylesheet%22%20href%3D%22https%3A//cdnjs.cloudflare.com/ajax/libs/Leaflet.awesome-markers/2.0.2/leaflet.awesome-markers.css%22/%3E%0A%20%20%20%20%3Clink%20rel%3D%22stylesheet%22%20href%3D%22https%3A//cdn.jsdelivr.net/gh/python-visualization/folium/folium/templates/leaflet.awesome.rotate.min.css%22/%3E%0A%20%20%20%20%0A%20%20%20%20%20%20%20%20%20%20%20%20%3Cmeta%20name%3D%22viewport%22%20content%3D%22width%3Ddevice-width%2C%0A%20%20%20%20%20%20%20%20%20%20%20%20%20%20%20%20initial-scale%3D1.0%2C%20maximum-scale%3D1.0%2C%20user-scalable%3Dno%22%20/%3E%0A%20%20%20%20%20%20%20%20%20%20%20%20%3Cstyle%3E%0A%20%20%20%20%20%20%20%20%20%20%20%20%20%20%20%20%23map_95800035499343b4acf89656047949d4%20%7B%0A%20%20%20%20%20%20%20%20%20%20%20%20%20%20%20%20%20%20%20%20position%3A%20relative%3B%0A%20%20%20%20%20%20%20%20%20%20%20%20%20%20%20%20%20%20%20%20width%3A%20100.0%25%3B%0A%20%20%20%20%20%20%20%20%20%20%20%20%20%20%20%20%20%20%20%20height%3A%20100.0%25%3B%0A%20%20%20%20%20%20%20%20%20%20%20%20%20%20%20%20%20%20%20%20left%3A%200.0%25%3B%0A%20%20%20%20%20%20%20%20%20%20%20%20%20%20%20%20%20%20%20%20top%3A%200.0%25%3B%0A%20%20%20%20%20%20%20%20%20%20%20%20%20%20%20%20%7D%0A%20%20%20%20%20%20%20%20%20%20%20%20%3C/style%3E%0A%20%20%20%20%20%20%20%20%0A%20%20%20%20%3Cscript%20src%3D%22https%3A//cdn.jsdelivr.net/gh/python-visualization/folium%40master/folium/templates/leaflet_heat.min.js%22%3E%3C/script%3E%0A%3C/head%3E%0A%3Cbody%3E%20%20%20%20%0A%20%20%20%20%0A%20%20%20%20%20%20%20%20%20%20%20%20%3Cdiv%20class%3D%22folium-map%22%20id%3D%22map_95800035499343b4acf89656047949d4%22%20%3E%3C/div%3E%0A%20%20%20%20%20%20%20%20%0A%3C/body%3E%0A%3Cscript%3E%20%20%20%20%0A%20%20%20%20%0A%20%20%20%20%20%20%20%20%20%20%20%20var%20map_95800035499343b4acf89656047949d4%20%3D%20L.map%28%0A%20%20%20%20%20%20%20%20%20%20%20%20%20%20%20%20%22map_95800035499343b4acf89656047949d4%22%2C%0A%20%20%20%20%20%20%20%20%20%20%20%20%20%20%20%20%7B%0A%20%20%20%20%20%20%20%20%20%20%20%20%20%20%20%20%20%20%20%20center%3A%20%5B38.674%2C%20-28.14%5D%2C%0A%20%20%20%20%20%20%20%20%20%20%20%20%20%20%20%20%20%20%20%20crs%3A%20L.CRS.EPSG3857%2C%0A%20%20%20%20%20%20%20%20%20%20%20%20%20%20%20%20%20%20%20%20zoom%3A%2012%2C%0A%20%20%20%20%20%20%20%20%20%20%20%20%20%20%20%20%20%20%20%20zoomControl%3A%20true%2C%0A%20%20%20%20%20%20%20%20%20%20%20%20%20%20%20%20%20%20%20%20preferCanvas%3A%20false%2C%0A%20%20%20%20%20%20%20%20%20%20%20%20%20%20%20%20%7D%0A%20%20%20%20%20%20%20%20%20%20%20%20%29%3B%0A%0A%20%20%20%20%20%20%20%20%20%20%20%20%0A%0A%20%20%20%20%20%20%20%20%0A%20%20%20%20%0A%20%20%20%20%20%20%20%20%20%20%20%20var%20tile_layer_2d24e061d8a24a6a8e64a32852ab856e%20%3D%20L.tileLayer%28%0A%20%20%20%20%20%20%20%20%20%20%20%20%20%20%20%20%22https%3A//%7Bs%7D.tile.openstreetmap.org/%7Bz%7D/%7Bx%7D/%7By%7D.png%22%2C%0A%20%20%20%20%20%20%20%20%20%20%20%20%20%20%20%20%7B%22attribution%22%3A%20%22Data%20by%20%5Cu0026copy%3B%20%5Cu003ca%20href%3D%5C%22http%3A//openstreetmap.org%5C%22%5Cu003eOpenStreetMap%5Cu003c/a%5Cu003e%2C%20under%20%5Cu003ca%20href%3D%5C%22http%3A//www.openstreetmap.org/copyright%5C%22%5Cu003eODbL%5Cu003c/a%5Cu003e.%22%2C%20%22detectRetina%22%3A%20false%2C%20%22maxNativeZoom%22%3A%2018%2C%20%22maxZoom%22%3A%2018%2C%20%22minZoom%22%3A%200%2C%20%22noWrap%22%3A%20false%2C%20%22opacity%22%3A%201%2C%20%22subdomains%22%3A%20%22abc%22%2C%20%22tms%22%3A%20false%7D%0A%20%20%20%20%20%20%20%20%20%20%20%20%29.addTo%28map_95800035499343b4acf89656047949d4%29%3B%0A%20%20%20%20%20%20%20%20%0A%20%20%20%20%0A%20%20%20%20%20%20%20%20%20%20%20%20var%20heat_map_153e242a9c78475d87eb5161299d7dd4%20%3D%20L.heatLayer%28%0A%20%20%20%20%20%20%20%20%20%20%20%20%20%20%20%20%5B%5B38.655%2C%20-28.069%5D%2C%20%5B38.655%2C%20-28.074%5D%2C%20%5B38.656%2C%20-28.084%5D%2C%20%5B38.646%2C%20-28.066%5D%2C%20%5B38.65%2C%20-28.077%5D%2C%20%5B38.654%2C%20-28.079%5D%2C%20%5B38.649%2C%20-28.075%5D%2C%20%5B38.651%2C%20-28.081%5D%2C%20%5B38.633%2C%20-28.072%5D%2C%20%5B38.664%2C%20-28.129%5D%2C%20%5B38.661%2C%20-28.084%5D%2C%20%5B38.665%2C%20-28.129%5D%2C%20%5B38.665%2C%20-28.129%5D%2C%20%5B38.671%2C%20-28.129%5D%2C%20%5B38.668%2C%20-28.129%5D%2C%20%5B38.678%2C%20-28.132%5D%2C%20%5B38.701%2C%20-28.126%5D%2C%20%5B38.653%2C%20-28.099%5D%2C%20%5B38.669%2C%20-28.142%5D%2C%20%5B38.669%2C%20-28.143%5D%2C%20%5B38.668%2C%20-28.144%5D%2C%20%5B38.669%2C%20-28.141%5D%2C%20%5B38.696%2C%20-28.164%5D%2C%20%5B38.666%2C%20-28.119%5D%2C%20%5B38.673%2C%20-28.145%5D%2C%20%5B38.68%2C%20-28.128%5D%2C%20%5B38.684%2C%20-28.149%5D%2C%20%5B38.663%2C%20-28.123%5D%2C%20%5B38.665%2C%20-28.12%5D%2C%20%5B38.657%2C%20-28.106%5D%2C%20%5B38.67%2C%20-28.122%5D%2C%20%5B38.651%2C%20-28.079%5D%2C%20%5B38.678%2C%20-28.117%5D%2C%20%5B38.685%2C%20-28.122%5D%2C%20%5B38.666%2C%20-28.12%5D%2C%20%5B38.686%2C%20-28.191%5D%2C%20%5B38.702%2C%20-28.196%5D%2C%20%5B37.612%2C%20-25.268%5D%2C%20%5B38.652%2C%20-28.07%5D%2C%20%5B38.694%2C%20-28.185%5D%2C%20%5B38.653%2C%20-28.051%5D%2C%20%5B38.649%2C%20-28.056%5D%2C%20%5B38.643%2C%20-28.05%5D%2C%20%5B38.649%2C%20-28.053%5D%2C%20%5B38.648%2C%20-28.044%5D%2C%20%5B38.694%2C%20-28.227%5D%2C%20%5B38.685%2C%20-28.215%5D%2C%20%5B38.684%2C%20-28.214%5D%2C%20%5B38.683%2C%20-28.198%5D%2C%20%5B38.694%2C%20-28.22%5D%2C%20%5B38.696%2C%20-28.213%5D%2C%20%5B38.691%2C%20-28.214%5D%2C%20%5B38.69%2C%20-28.207%5D%2C%20%5B38.696%2C%20-28.222%5D%2C%20%5B38.687%2C%20-28.209%5D%2C%20%5B38.688%2C%20-28.201%5D%2C%20%5B38.685%2C%20-28.216%5D%2C%20%5B38.696%2C%20-28.219%5D%2C%20%5B38.684%2C%20-28.195%5D%2C%20%5B38.693%2C%20-28.218%5D%2C%20%5B38.703%2C%20-28.228%5D%2C%20%5B38.688%2C%20-28.216%5D%2C%20%5B38.698%2C%20-28.222%5D%2C%20%5B38.695%2C%20-28.219%5D%2C%20%5B38.681%2C%20-28.227%5D%2C%20%5B38.687%2C%20-28.184%5D%2C%20%5B38.693%2C%20-28.216%5D%2C%20%5B38.69%2C%20-28.206%5D%2C%20%5B38.692%2C%20-28.193%5D%2C%20%5B37.582%2C%20-25.294%5D%2C%20%5B38.683%2C%20-28.215%5D%2C%20%5B38.695%2C%20-28.22%5D%2C%20%5B38.639%2C%20-28.024%5D%2C%20%5B38.699%2C%20-28.223%5D%2C%20%5B38.639%2C%20-28.044%5D%2C%20%5B38.691%2C%20-28.208%5D%2C%20%5B38.69%2C%20-28.207%5D%2C%20%5B38.684%2C%20-28.169%5D%2C%20%5B38.68%2C%20-28.207%5D%2C%20%5B38.687%2C%20-28.198%5D%2C%20%5B38.699%2C%20-28.235%5D%2C%20%5B38.682%2C%20-28.201%5D%2C%20%5B38.676%2C%20-28.168%5D%2C%20%5B38.682%2C%20-28.164%5D%2C%20%5B38.676%2C%20-28.186%5D%2C%20%5B38.678%2C%20-28.175%5D%2C%20%5B38.686%2C%20-28.181%5D%2C%20%5B38.685%2C%20-28.2%5D%2C%20%5B38.684%2C%20-28.179%5D%2C%20%5B38.684%2C%20-28.19%5D%2C%20%5B38.689%2C%20-28.185%5D%2C%20%5B38.671%2C%20-28.157%5D%2C%20%5B38.689%2C%20-28.183%5D%2C%20%5B38.694%2C%20-28.212%5D%2C%20%5B38.683%2C%20-28.178%5D%2C%20%5B38.688%2C%20-28.209%5D%2C%20%5B38.687%2C%20-28.216%5D%2C%20%5B38.677%2C%20-28.16%5D%2C%20%5B38.686%2C%20-28.194%5D%2C%20%5B38.681%2C%20-28.164%5D%2C%20%5B38.685%2C%20-28.174%5D%2C%20%5B38.687%2C%20-28.206%5D%2C%20%5B38.687%2C%20-28.184%5D%2C%20%5B38.688%2C%20-28.214%5D%2C%20%5B38.688%2C%20-28.209%5D%2C%20%5B38.704%2C%20-28.204%5D%2C%20%5B38.695%2C%20-28.21%5D%2C%20%5B38.689%2C%20-28.212%5D%2C%20%5B38.687%2C%20-28.197%5D%2C%20%5B38.691%2C%20-28.21%5D%2C%20%5B38.691%2C%20-28.199%5D%2C%20%5B38.691%2C%20-28.213%5D%2C%20%5B38.695%2C%20-28.217%5D%2C%20%5B38.696%2C%20-28.214%5D%2C%20%5B38.692%2C%20-28.215%5D%2C%20%5B38.69%2C%20-28.219%5D%2C%20%5B38.689%2C%20-28.207%5D%2C%20%5B38.683%2C%20-28.199%5D%2C%20%5B38.679%2C%20-28.176%5D%2C%20%5B38.703%2C%20-28.225%5D%2C%20%5B38.691%2C%20-28.193%5D%2C%20%5B38.69%2C%20-28.228%5D%2C%20%5B38.694%2C%20-28.22%5D%2C%20%5B38.685%2C%20-28.219%5D%2C%20%5B38.695%2C%20-28.222%5D%2C%20%5B38.689%2C%20-28.212%5D%2C%20%5B38.688%2C%20-28.176%5D%2C%20%5B38.694%2C%20-28.229%5D%2C%20%5B38.689%2C%20-28.157%5D%2C%20%5B38.687%2C%20-28.18%5D%2C%20%5B38.697%2C%20-28.186%5D%2C%20%5B38.691%2C%20-28.182%5D%2C%20%5B38.687%2C%20-28.193%5D%2C%20%5B38.692%2C%20-28.199%5D%2C%20%5B36.768%2C%20-23.835%5D%2C%20%5B38.693%2C%20-28.209%5D%2C%20%5B38.689%2C%20-28.177%5D%2C%20%5B38.681%2C%20-28.168%5D%2C%20%5B38.703%2C%20-28.202%5D%2C%20%5B38.702%2C%20-28.208%5D%2C%20%5B38.686%2C%20-28.174%5D%2C%20%5B38.679%2C%20-28.212%5D%2C%20%5B38.687%2C%20-28.196%5D%2C%20%5B38.684%2C%20-28.194%5D%2C%20%5B38.691%2C%20-28.214%5D%2C%20%5B38.69%2C%20-28.195%5D%2C%20%5B38.687%2C%20-28.176%5D%2C%20%5B38.691%2C%20-28.193%5D%2C%20%5B38.679%2C%20-28.173%5D%2C%20%5B38.68%2C%20-28.175%5D%2C%20%5B38.674%2C%20-28.149%5D%2C%20%5B38.689%2C%20-28.19%5D%2C%20%5B38.705%2C%20-28.218%5D%2C%20%5B38.703%2C%20-28.225%5D%2C%20%5B38.69%2C%20-28.175%5D%2C%20%5B38.704%2C%20-28.212%5D%2C%20%5B38.701%2C%20-28.221%5D%2C%20%5B38.689%2C%20-28.202%5D%2C%20%5B38.683%2C%20-28.223%5D%2C%20%5B38.697%2C%20-28.185%5D%2C%20%5B38.694%2C%20-28.215%5D%2C%20%5B38.678%2C%20-28.179%5D%2C%20%5B38.685%2C%20-28.191%5D%2C%20%5B38.681%2C%20-28.145%5D%2C%20%5B38.694%2C%20-28.203%5D%2C%20%5B38.693%2C%20-28.177%5D%2C%20%5B38.682%2C%20-28.177%5D%2C%20%5B38.692%2C%20-28.219%5D%2C%20%5B38.676%2C%20-28.157%5D%2C%20%5B38.694%2C%20-28.204%5D%2C%20%5B38.697%2C%20-28.216%5D%2C%20%5B38.683%2C%20-28.221%5D%2C%20%5B38.695%2C%20-28.197%5D%2C%20%5B38.69%2C%20-28.191%5D%2C%20%5B38.696%2C%20-28.217%5D%2C%20%5B38.681%2C%20-28.176%5D%2C%20%5B38.677%2C%20-28.154%5D%2C%20%5B38.689%2C%20-28.185%5D%2C%20%5B38.675%2C%20-28.157%5D%2C%20%5B38.702%2C%20-28.216%5D%2C%20%5B38.69%2C%20-28.18%5D%2C%20%5B38.691%2C%20-28.179%5D%2C%20%5B38.693%2C%20-28.19%5D%2C%20%5B38.693%2C%20-28.186%5D%2C%20%5B36.844%2C%20-24.603%5D%2C%20%5B38.687%2C%20-28.193%5D%2C%20%5B38.686%2C%20-28.213%5D%2C%20%5B38.683%2C%20-28.147%5D%2C%20%5B38.67%2C%20-28.14%5D%2C%20%5B37.564%2C%20-25.32%5D%2C%20%5B38.693%2C%20-28.213%5D%2C%20%5B38.693%2C%20-28.204%5D%2C%20%5B38.694%2C%20-28.211%5D%2C%20%5B37.99%2C%20-26.374%5D%2C%20%5B38.69%2C%20-28.224%5D%2C%20%5B38.678%2C%20-28.148%5D%2C%20%5B38.689%2C%20-28.205%5D%2C%20%5B38.675%2C%20-28.153%5D%2C%20%5B38.694%2C%20-28.212%5D%2C%20%5B38.698%2C%20-28.18%5D%2C%20%5B38.682%2C%20-28.198%5D%2C%20%5B38.699%2C%20-28.206%5D%2C%20%5B38.691%2C%20-28.182%5D%2C%20%5B38.694%2C%20-28.185%5D%2C%20%5B38.699%2C%20-28.215%5D%2C%20%5B38.679%2C%20-28.152%5D%2C%20%5B38.694%2C%20-28.202%5D%2C%20%5B38.691%2C%20-28.191%5D%2C%20%5B38.671%2C%20-28.146%5D%2C%20%5B38.675%2C%20-28.152%5D%2C%20%5B38.674%2C%20-28.143%5D%2C%20%5B38.69%2C%20-28.198%5D%2C%20%5B38.685%2C%20-28.203%5D%2C%20%5B38.693%2C%20-28.209%5D%2C%20%5B38.696%2C%20-28.211%5D%2C%20%5B38.694%2C%20-28.219%5D%2C%20%5B38.687%2C%20-28.227%5D%2C%20%5B38.675%2C%20-28.158%5D%2C%20%5B38.692%2C%20-28.215%5D%2C%20%5B38.705%2C%20-28.203%5D%2C%20%5B38.707%2C%20-28.201%5D%2C%20%5B38.695%2C%20-28.205%5D%2C%20%5B38.686%2C%20-28.155%5D%2C%20%5B38.691%2C%20-28.175%5D%2C%20%5B38.699%2C%20-28.205%5D%2C%20%5B38.692%2C%20-28.207%5D%2C%20%5B38.684%2C%20-28.184%5D%2C%20%5B38.686%2C%20-28.179%5D%2C%20%5B38.675%2C%20-28.143%5D%2C%20%5B38.682%2C%20-28.156%5D%2C%20%5B38.673%2C%20-28.153%5D%2C%20%5B38.669%2C%20-28.158%5D%2C%20%5B38.69%2C%20-28.212%5D%2C%20%5B38.687%2C%20-28.193%5D%2C%20%5B38.693%2C%20-28.207%5D%2C%20%5B38.683%2C%20-28.193%5D%2C%20%5B38.669%2C%20-28.152%5D%2C%20%5B38.688%2C%20-28.202%5D%2C%20%5B38.688%2C%20-28.204%5D%2C%20%5B38.691%2C%20-28.184%5D%2C%20%5B38.692%2C%20-28.194%5D%2C%20%5B38.675%2C%20-28.144%5D%2C%20%5B38.675%2C%20-28.155%5D%2C%20%5B38.688%2C%20-28.201%5D%2C%20%5B38.679%2C%20-28.154%5D%2C%20%5B38.672%2C%20-28.139%5D%2C%20%5B38.686%2C%20-28.203%5D%2C%20%5B38.692%2C%20-28.204%5D%2C%20%5B38.694%2C%20-28.201%5D%2C%20%5B38.686%2C%20-28.192%5D%2C%20%5B38.676%2C%20-28.148%5D%2C%20%5B38.671%2C%20-28.151%5D%2C%20%5B38.692%2C%20-28.181%5D%2C%20%5B38.693%2C%20-28.226%5D%2C%20%5B38.688%2C%20-28.207%5D%2C%20%5B38.696%2C%20-28.211%5D%2C%20%5B38.672%2C%20-28.148%5D%2C%20%5B38.693%2C%20-28.205%5D%2C%20%5B38.685%2C%20-28.16%5D%2C%20%5B38.683%2C%20-28.19%5D%2C%20%5B38.695%2C%20-28.206%5D%2C%20%5B38.687%2C%20-28.203%5D%2C%20%5B38.69%2C%20-28.21%5D%2C%20%5B37.664%2C%20-24.746%5D%2C%20%5B38.675%2C%20-28.153%5D%2C%20%5B38.674%2C%20-28.147%5D%2C%20%5B38.692%2C%20-28.203%5D%2C%20%5B38.691%2C%20-28.203%5D%2C%20%5B38.696%2C%20-28.205%5D%2C%20%5B38.681%2C%20-28.158%5D%2C%20%5B38.678%2C%20-28.153%5D%2C%20%5B38.687%2C%20-28.182%5D%2C%20%5B38.674%2C%20-28.153%5D%2C%20%5B38.699%2C%20-28.199%5D%2C%20%5B38.688%2C%20-28.193%5D%2C%20%5B38.694%2C%20-28.202%5D%2C%20%5B38.684%2C%20-28.208%5D%2C%20%5B38.693%2C%20-28.205%5D%2C%20%5B38.676%2C%20-28.144%5D%2C%20%5B38.687%2C%20-28.203%5D%2C%20%5B38.694%2C%20-28.207%5D%2C%20%5B38.668%2C%20-28.151%5D%2C%20%5B38.688%2C%20-28.181%5D%2C%20%5B38.679%2C%20-28.154%5D%2C%20%5B38.678%2C%20-28.149%5D%2C%20%5B38.676%2C%20-28.149%5D%2C%20%5B38.686%2C%20-28.189%5D%2C%20%5B38.688%2C%20-28.19%5D%2C%20%5B38.676%2C%20-28.145%5D%2C%20%5B38.675%2C%20-28.148%5D%2C%20%5B38.675%2C%20-28.146%5D%2C%20%5B38.673%2C%20-28.15%5D%2C%20%5B38.686%2C%20-28.21%5D%2C%20%5B38.677%2C%20-28.133%5D%2C%20%5B38.678%2C%20-28.145%5D%2C%20%5B38.675%2C%20-28.151%5D%2C%20%5B38.676%2C%20-28.142%5D%2C%20%5B38.692%2C%20-28.194%5D%2C%20%5B38.684%2C%20-28.19%5D%2C%20%5B38.69%2C%20-28.227%5D%2C%20%5B37.711%2C%20-24.669%5D%2C%20%5B38.688%2C%20-28.187%5D%2C%20%5B38.691%2C%20-28.195%5D%2C%20%5B38.675%2C%20-28.138%5D%2C%20%5B38.677%2C%20-28.144%5D%2C%20%5B38.676%2C%20-28.149%5D%2C%20%5B38.676%2C%20-28.142%5D%2C%20%5B37.472%2C%20-24.996%5D%2C%20%5B38.672%2C%20-28.128%5D%2C%20%5B38.688%2C%20-28.199%5D%2C%20%5B38.689%2C%20-28.199%5D%2C%20%5B38.688%2C%20-28.198%5D%2C%20%5B38.677%2C%20-28.142%5D%2C%20%5B38.694%2C%20-28.195%5D%2C%20%5B38.691%2C%20-28.192%5D%2C%20%5B38.693%2C%20-28.194%5D%2C%20%5B38.688%2C%20-28.197%5D%2C%20%5B38.677%2C%20-28.16%5D%2C%20%5B38.679%2C%20-28.139%5D%2C%20%5B38.692%2C%20-28.185%5D%2C%20%5B38.683%2C%20-28.204%5D%2C%20%5B38.678%2C%20-28.148%5D%2C%20%5B38.692%2C%20-28.193%5D%2C%20%5B38.71%2C%20-28.192%5D%2C%20%5B38.695%2C%20-28.203%5D%5D%2C%0A%20%20%20%20%20%20%20%20%20%20%20%20%20%20%20%20%7B%22blur%22%3A%2015%2C%20%22maxZoom%22%3A%2018%2C%20%22minOpacity%22%3A%200.5%2C%20%22radius%22%3A%2025%7D%0A%20%20%20%20%20%20%20%20%20%20%20%20%29.addTo%28map_95800035499343b4acf89656047949d4%29%3B%0A%20%20%20%20%20%20%20%20%0A%3C/script%3E onload=\"this.contentDocument.open();this.contentDocument.write(    decodeURIComponent(this.getAttribute('data-html')));this.contentDocument.close();\" \"allowfullscreen\" \"webkitallowfullscreen\" \"mozallowfullscreen\"></iframe>"
      ],
      "text/plain": [
       "<branca.element.Figure at 0x2054bb4cfd0>"
      ]
     },
     "execution_count": 40,
     "metadata": {},
     "output_type": "execute_result"
    }
   ],
   "source": [
    "fig = Figure(width=600, height=400)\n",
    "map_hooray = folium.Map(location=SAO_JORGE_COORDINATES, zoom_start=12)\n",
    "\n",
    "# List comprehension to make out list of lists\n",
    "heat_data = list(zip(st_jorge_crisis_df[\"lat\"].tolist(), st_jorge_crisis_df[\"lon\"].tolist()))\n",
    "\n",
    "# Plot it on the map\n",
    "HeatMap(heat_data).add_to(map_hooray)\n",
    "\n",
    "# Display the map\n",
    "fig.add_child(map_hooray)"
   ]
  },
  {
   "cell_type": "code",
   "execution_count": 46,
   "metadata": {},
   "outputs": [
    {
     "name": "stderr",
     "output_type": "stream",
     "text": [
      "C:\\Users\\hmbf1\\AppData\\Local\\Temp\\ipykernel_37388\\3207278558.py:1: SettingWithCopyWarning: \n",
      "A value is trying to be set on a copy of a slice from a DataFrame.\n",
      "Try using .loc[row_indexer,col_indexer] = value instead\n",
      "\n",
      "See the caveats in the documentation: https://pandas.pydata.org/pandas-docs/stable/user_guide/indexing.html#returning-a-view-versus-a-copy\n",
      "  st_jorge_crisis_df[\"time_bin\"] = pd.cut(st_jorge_crisis_df[\"time\"], bins=10, labels=False)\n"
     ]
    }
   ],
   "source": [
    "st_jorge_crisis_df[\"time_bin\"] = pd.cut(st_jorge_crisis_df[\"time\"], bins=10, labels=False)"
   ]
  },
  {
   "cell_type": "code",
   "execution_count": 47,
   "metadata": {},
   "outputs": [
    {
     "data": {
      "text/html": [
       "<iframe src=\"about:blank\" width=\"600\" height=\"400\"style=\"border:none !important;\" data-html=%3C%21DOCTYPE%20html%3E%0A%3Chead%3E%20%20%20%20%0A%20%20%20%20%3Cmeta%20http-equiv%3D%22content-type%22%20content%3D%22text/html%3B%20charset%3DUTF-8%22%20/%3E%0A%20%20%20%20%0A%20%20%20%20%20%20%20%20%3Cscript%3E%0A%20%20%20%20%20%20%20%20%20%20%20%20L_NO_TOUCH%20%3D%20false%3B%0A%20%20%20%20%20%20%20%20%20%20%20%20L_DISABLE_3D%20%3D%20false%3B%0A%20%20%20%20%20%20%20%20%3C/script%3E%0A%20%20%20%20%0A%20%20%20%20%3Cstyle%3Ehtml%2C%20body%20%7Bwidth%3A%20100%25%3Bheight%3A%20100%25%3Bmargin%3A%200%3Bpadding%3A%200%3B%7D%3C/style%3E%0A%20%20%20%20%3Cstyle%3E%23map%20%7Bposition%3Aabsolute%3Btop%3A0%3Bbottom%3A0%3Bright%3A0%3Bleft%3A0%3B%7D%3C/style%3E%0A%20%20%20%20%3Cscript%20src%3D%22https%3A//cdn.jsdelivr.net/npm/leaflet%401.6.0/dist/leaflet.js%22%3E%3C/script%3E%0A%20%20%20%20%3Cscript%20src%3D%22https%3A//code.jquery.com/jquery-1.12.4.min.js%22%3E%3C/script%3E%0A%20%20%20%20%3Cscript%20src%3D%22https%3A//maxcdn.bootstrapcdn.com/bootstrap/3.2.0/js/bootstrap.min.js%22%3E%3C/script%3E%0A%20%20%20%20%3Cscript%20src%3D%22https%3A//cdnjs.cloudflare.com/ajax/libs/Leaflet.awesome-markers/2.0.2/leaflet.awesome-markers.js%22%3E%3C/script%3E%0A%20%20%20%20%3Clink%20rel%3D%22stylesheet%22%20href%3D%22https%3A//cdn.jsdelivr.net/npm/leaflet%401.6.0/dist/leaflet.css%22/%3E%0A%20%20%20%20%3Clink%20rel%3D%22stylesheet%22%20href%3D%22https%3A//maxcdn.bootstrapcdn.com/bootstrap/3.2.0/css/bootstrap.min.css%22/%3E%0A%20%20%20%20%3Clink%20rel%3D%22stylesheet%22%20href%3D%22https%3A//maxcdn.bootstrapcdn.com/bootstrap/3.2.0/css/bootstrap-theme.min.css%22/%3E%0A%20%20%20%20%3Clink%20rel%3D%22stylesheet%22%20href%3D%22https%3A//maxcdn.bootstrapcdn.com/font-awesome/4.6.3/css/font-awesome.min.css%22/%3E%0A%20%20%20%20%3Clink%20rel%3D%22stylesheet%22%20href%3D%22https%3A//cdnjs.cloudflare.com/ajax/libs/Leaflet.awesome-markers/2.0.2/leaflet.awesome-markers.css%22/%3E%0A%20%20%20%20%3Clink%20rel%3D%22stylesheet%22%20href%3D%22https%3A//cdn.jsdelivr.net/gh/python-visualization/folium/folium/templates/leaflet.awesome.rotate.min.css%22/%3E%0A%20%20%20%20%0A%20%20%20%20%20%20%20%20%20%20%20%20%3Cmeta%20name%3D%22viewport%22%20content%3D%22width%3Ddevice-width%2C%0A%20%20%20%20%20%20%20%20%20%20%20%20%20%20%20%20initial-scale%3D1.0%2C%20maximum-scale%3D1.0%2C%20user-scalable%3Dno%22%20/%3E%0A%20%20%20%20%20%20%20%20%20%20%20%20%3Cstyle%3E%0A%20%20%20%20%20%20%20%20%20%20%20%20%20%20%20%20%23map_55b739d1bf984c0487827dd0d57874f5%20%7B%0A%20%20%20%20%20%20%20%20%20%20%20%20%20%20%20%20%20%20%20%20position%3A%20relative%3B%0A%20%20%20%20%20%20%20%20%20%20%20%20%20%20%20%20%20%20%20%20width%3A%20100.0%25%3B%0A%20%20%20%20%20%20%20%20%20%20%20%20%20%20%20%20%20%20%20%20height%3A%20100.0%25%3B%0A%20%20%20%20%20%20%20%20%20%20%20%20%20%20%20%20%20%20%20%20left%3A%200.0%25%3B%0A%20%20%20%20%20%20%20%20%20%20%20%20%20%20%20%20%20%20%20%20top%3A%200.0%25%3B%0A%20%20%20%20%20%20%20%20%20%20%20%20%20%20%20%20%7D%0A%20%20%20%20%20%20%20%20%20%20%20%20%3C/style%3E%0A%20%20%20%20%20%20%20%20%0A%20%20%20%20%3Cscript%20src%3D%22https%3A//cdn.jsdelivr.net/npm/iso8601-js-period%400.2.1/iso8601.min.js%22%3E%3C/script%3E%0A%20%20%20%20%3Cscript%20src%3D%22https%3A//cdn.jsdelivr.net/npm/leaflet-timedimension%401.1.1/dist/leaflet.timedimension.min.js%22%3E%3C/script%3E%0A%20%20%20%20%3Cscript%20src%3D%22https%3A//cdn.jsdelivr.net/gh/python-visualization/folium/folium/templates/pa7_hm.min.js%22%3E%3C/script%3E%0A%20%20%20%20%3Cscript%20src%3D%22https%3A//cdn.jsdelivr.net/gh/python-visualization/folium/folium/templates/pa7_leaflet_hm.min.js%22%3E%3C/script%3E%0A%20%20%20%20%3Clink%20rel%3D%22stylesheet%22%20href%3D%22https%3A//cdn.jsdelivr.net/npm/leaflet-timedimension%401.1.1/dist/leaflet.timedimension.control.css%22/%3E%0A%20%20%20%20%0A%20%20%20%20%20%20%20%20%20%20%20%20%3Cscript%3E%0A%20%20%20%20%20%20%20%20%20%20%20%20%20%20%20%20var%20TDHeatmap%20%3D%20L.TimeDimension.Layer.extend%28%7B%0A%0A%20%20%20%20%20%20%20%20%20%20%20%20initialize%3A%20function%28data%2C%20options%29%20%7B%0A%20%20%20%20%20%20%20%20%20%20%20%20%20%20%20%20var%20heatmapCfg%20%3D%20%7B%0A%20%20%20%20%20%20%20%20%20%20%20%20%20%20%20%20%20%20%20%20radius%3A%2015%2C%0A%20%20%20%20%20%20%20%20%20%20%20%20%20%20%20%20%20%20%20%20maxOpacity%3A%201.%2C%0A%20%20%20%20%20%20%20%20%20%20%20%20%20%20%20%20%20%20%20%20scaleRadius%3A%20false%2C%0A%20%20%20%20%20%20%20%20%20%20%20%20%20%20%20%20%20%20%20%20useLocalExtrema%3A%20false%2C%0A%20%20%20%20%20%20%20%20%20%20%20%20%20%20%20%20%20%20%20%20latField%3A%20%27lat%27%2C%0A%20%20%20%20%20%20%20%20%20%20%20%20%20%20%20%20%20%20%20%20lngField%3A%20%27lng%27%2C%0A%20%20%20%20%20%20%20%20%20%20%20%20%20%20%20%20%20%20%20%20valueField%3A%20%27count%27%2C%0A%20%20%20%20%20%20%20%20%20%20%20%20%20%20%20%20%20%20%20%20defaultWeight%20%3A%201%2C%0A%20%20%20%20%20%20%20%20%20%20%20%20%20%20%20%20%7D%3B%0A%20%20%20%20%20%20%20%20%20%20%20%20%20%20%20%20heatmapCfg%20%3D%20%24.extend%28%7B%7D%2C%20heatmapCfg%2C%20options.heatmapOptions%20%7C%7C%20%7B%7D%29%3B%0A%20%20%20%20%20%20%20%20%20%20%20%20%20%20%20%20var%20layer%20%3D%20new%20HeatmapOverlay%28heatmapCfg%29%3B%0A%20%20%20%20%20%20%20%20%20%20%20%20%20%20%20%20L.TimeDimension.Layer.prototype.initialize.call%28this%2C%20layer%2C%20options%29%3B%0A%20%20%20%20%20%20%20%20%20%20%20%20%20%20%20%20this._currentLoadedTime%20%3D%200%3B%0A%20%20%20%20%20%20%20%20%20%20%20%20%20%20%20%20this._currentTimeData%20%3D%20%7B%0A%20%20%20%20%20%20%20%20%20%20%20%20%20%20%20%20%20%20%20%20data%3A%20%5B%5D%0A%20%20%20%20%20%20%20%20%20%20%20%20%20%20%20%20%20%20%20%20%7D%3B%0A%20%20%20%20%20%20%20%20%20%20%20%20%20%20%20%20this.data%3D%20data%3B%0A%20%20%20%20%20%20%20%20%20%20%20%20%20%20%20%20this.defaultWeight%20%3D%20heatmapCfg.defaultWeight%20%7C%7C%201%3B%0A%20%20%20%20%20%20%20%20%20%20%20%20%7D%2C%0A%20%20%20%20%20%20%20%20%20%20%20%20onAdd%3A%20function%28map%29%20%7B%0A%20%20%20%20%20%20%20%20%20%20%20%20%20%20%20%20L.TimeDimension.Layer.prototype.onAdd.call%28this%2C%20map%29%3B%0A%20%20%20%20%20%20%20%20%20%20%20%20%20%20%20%20map.addLayer%28this._baseLayer%29%3B%0A%20%20%20%20%20%20%20%20%20%20%20%20%20%20%20%20if%20%28this._timeDimension%29%20%7B%0A%20%20%20%20%20%20%20%20%20%20%20%20%20%20%20%20%20%20%20%20this._getDataForTime%28this._timeDimension.getCurrentTime%28%29%29%3B%0A%20%20%20%20%20%20%20%20%20%20%20%20%20%20%20%20%7D%0A%20%20%20%20%20%20%20%20%20%20%20%20%7D%2C%0A%20%20%20%20%20%20%20%20%20%20%20%20_onNewTimeLoading%3A%20function%28ev%29%20%7B%0A%20%20%20%20%20%20%20%20%20%20%20%20%20%20%20%20this._getDataForTime%28ev.time%29%3B%0A%20%20%20%20%20%20%20%20%20%20%20%20%20%20%20%20return%3B%0A%20%20%20%20%20%20%20%20%20%20%20%20%7D%2C%0A%20%20%20%20%20%20%20%20%20%20%20%20isReady%3A%20function%28time%29%20%7B%0A%20%20%20%20%20%20%20%20%20%20%20%20%20%20%20%20return%20%28this._currentLoadedTime%20%3D%3D%20time%29%3B%0A%20%20%20%20%20%20%20%20%20%20%20%20%7D%2C%0A%20%20%20%20%20%20%20%20%20%20%20%20_update%3A%20function%28%29%20%7B%0A%20%20%20%20%20%20%20%20%20%20%20%20%20%20%20%20this._baseLayer.setData%28this._currentTimeData%29%3B%0A%20%20%20%20%20%20%20%20%20%20%20%20%20%20%20%20return%20true%3B%0A%20%20%20%20%20%20%20%20%20%20%20%20%7D%2C%0A%20%20%20%20%20%20%20%20%20%20%20%20_getDataForTime%3A%20function%28time%29%20%7B%0A%20%20%20%20%20%20%20%20%20%20%20%20%20%20%20%20%20%20%20%20delete%20this._currentTimeData.data%3B%0A%20%20%20%20%20%20%20%20%20%20%20%20%20%20%20%20%20%20%20%20this._currentTimeData.data%20%3D%20%5B%5D%3B%0A%20%20%20%20%20%20%20%20%20%20%20%20%20%20%20%20%20%20%20%20var%20data%20%3D%20this.data%5Btime-1%5D%3B%0A%20%20%20%20%20%20%20%20%20%20%20%20%20%20%20%20%20%20%20%20for%20%28var%20i%20%3D%200%3B%20i%20%3C%20data.length%3B%20i%2B%2B%29%20%7B%0A%20%20%20%20%20%20%20%20%20%20%20%20%20%20%20%20%20%20%20%20%20%20%20%20this._currentTimeData.data.push%28%7B%0A%20%20%20%20%20%20%20%20%20%20%20%20%20%20%20%20%20%20%20%20%20%20%20%20%20%20%20%20%20%20%20%20lat%3A%20data%5Bi%5D%5B0%5D%2C%0A%20%20%20%20%20%20%20%20%20%20%20%20%20%20%20%20%20%20%20%20%20%20%20%20%20%20%20%20%20%20%20%20lng%3A%20data%5Bi%5D%5B1%5D%2C%0A%20%20%20%20%20%20%20%20%20%20%20%20%20%20%20%20%20%20%20%20%20%20%20%20%20%20%20%20%20%20%20%20count%3A%20data%5Bi%5D.length%3E2%20%3F%20data%5Bi%5D%5B2%5D%20%3A%20this.defaultWeight%0A%20%20%20%20%20%20%20%20%20%20%20%20%20%20%20%20%20%20%20%20%20%20%20%20%20%20%20%20%7D%29%3B%0A%20%20%20%20%20%20%20%20%20%20%20%20%20%20%20%20%20%20%20%20%20%20%20%20%7D%0A%20%20%20%20%20%20%20%20%20%20%20%20%20%20%20%20%20%20%20%20this._currentLoadedTime%20%3D%20time%3B%0A%20%20%20%20%20%20%20%20%20%20%20%20%20%20%20%20%20%20%20%20if%20%28this._timeDimension%20%26%26%20time%20%3D%3D%20this._timeDimension.getCurrentTime%28%29%20%26%26%20%21this._timeDimension.isLoading%28%29%29%20%7B%0A%20%20%20%20%20%20%20%20%20%20%20%20%20%20%20%20%20%20%20%20%20%20%20%20this._update%28%29%3B%0A%20%20%20%20%20%20%20%20%20%20%20%20%20%20%20%20%20%20%20%20%7D%0A%20%20%20%20%20%20%20%20%20%20%20%20%20%20%20%20%20%20%20%20this.fire%28%27timeload%27%2C%20%7B%0A%20%20%20%20%20%20%20%20%20%20%20%20%20%20%20%20%20%20%20%20%20%20%20%20time%3A%20time%0A%20%20%20%20%20%20%20%20%20%20%20%20%20%20%20%20%20%20%20%20%7D%29%3B%0A%20%20%20%20%20%20%20%20%20%20%20%20%20%20%20%20%7D%0A%20%20%20%20%20%20%20%20%7D%29%3B%0A%0A%20%20%20%20%20%20%20%20L.Control.TimeDimensionCustom%20%3D%20L.Control.TimeDimension.extend%28%7B%0A%20%20%20%20%20%20%20%20%20%20%20%20initialize%3A%20function%28index%2C%20options%29%20%7B%0A%20%20%20%20%20%20%20%20%20%20%20%20%20%20%20%20var%20playerOptions%20%3D%20%7B%0A%20%20%20%20%20%20%20%20%20%20%20%20%20%20%20%20%20%20%20%20buffer%3A%201%2C%0A%20%20%20%20%20%20%20%20%20%20%20%20%20%20%20%20%20%20%20%20minBufferReady%3A%20-1%0A%20%20%20%20%20%20%20%20%20%20%20%20%20%20%20%20%20%20%20%20%7D%3B%0A%20%20%20%20%20%20%20%20%20%20%20%20%20%20%20%20options.playerOptions%20%3D%20%24.extend%28%7B%7D%2C%20playerOptions%2C%20options.playerOptions%20%7C%7C%20%7B%7D%29%3B%0A%20%20%20%20%20%20%20%20%20%20%20%20%20%20%20%20L.Control.TimeDimension.prototype.initialize.call%28this%2C%20options%29%3B%0A%20%20%20%20%20%20%20%20%20%20%20%20%20%20%20%20this.index%20%3D%20index%3B%0A%20%20%20%20%20%20%20%20%20%20%20%20%20%20%20%20%7D%2C%0A%20%20%20%20%20%20%20%20%20%20%20%20_getDisplayDateFormat%3A%20function%28date%29%7B%0A%20%20%20%20%20%20%20%20%20%20%20%20%20%20%20%20return%20this.index%5Bdate.getTime%28%29-1%5D%3B%0A%20%20%20%20%20%20%20%20%20%20%20%20%20%20%20%20%7D%0A%20%20%20%20%20%20%20%20%20%20%20%20%7D%29%3B%0A%20%20%20%20%20%20%20%20%20%20%20%20%3C/script%3E%0A%20%20%20%20%20%20%20%20%20%20%20%20%20%20%20%20%0A%3C/head%3E%0A%3Cbody%3E%20%20%20%20%0A%20%20%20%20%0A%20%20%20%20%20%20%20%20%20%20%20%20%3Cdiv%20class%3D%22folium-map%22%20id%3D%22map_55b739d1bf984c0487827dd0d57874f5%22%20%3E%3C/div%3E%0A%20%20%20%20%20%20%20%20%0A%3C/body%3E%0A%3Cscript%3E%20%20%20%20%0A%20%20%20%20%0A%20%20%20%20%20%20%20%20%20%20%20%20var%20map_55b739d1bf984c0487827dd0d57874f5%20%3D%20L.map%28%0A%20%20%20%20%20%20%20%20%20%20%20%20%20%20%20%20%22map_55b739d1bf984c0487827dd0d57874f5%22%2C%0A%20%20%20%20%20%20%20%20%20%20%20%20%20%20%20%20%7B%0A%20%20%20%20%20%20%20%20%20%20%20%20%20%20%20%20%20%20%20%20center%3A%20%5B38.674%2C%20-28.14%5D%2C%0A%20%20%20%20%20%20%20%20%20%20%20%20%20%20%20%20%20%20%20%20crs%3A%20L.CRS.EPSG3857%2C%0A%20%20%20%20%20%20%20%20%20%20%20%20%20%20%20%20%20%20%20%20zoom%3A%2012%2C%0A%20%20%20%20%20%20%20%20%20%20%20%20%20%20%20%20%20%20%20%20zoomControl%3A%20true%2C%0A%20%20%20%20%20%20%20%20%20%20%20%20%20%20%20%20%20%20%20%20preferCanvas%3A%20false%2C%0A%20%20%20%20%20%20%20%20%20%20%20%20%20%20%20%20%7D%0A%20%20%20%20%20%20%20%20%20%20%20%20%29%3B%0A%0A%20%20%20%20%20%20%20%20%20%20%20%20%0A%0A%20%20%20%20%20%20%20%20%0A%20%20%20%20%0A%20%20%20%20%20%20%20%20%20%20%20%20var%20tile_layer_8cd4ea8f15c745b3a546a8e373efa1d4%20%3D%20L.tileLayer%28%0A%20%20%20%20%20%20%20%20%20%20%20%20%20%20%20%20%22https%3A//%7Bs%7D.tile.openstreetmap.org/%7Bz%7D/%7Bx%7D/%7By%7D.png%22%2C%0A%20%20%20%20%20%20%20%20%20%20%20%20%20%20%20%20%7B%22attribution%22%3A%20%22Data%20by%20%5Cu0026copy%3B%20%5Cu003ca%20href%3D%5C%22http%3A//openstreetmap.org%5C%22%5Cu003eOpenStreetMap%5Cu003c/a%5Cu003e%2C%20under%20%5Cu003ca%20href%3D%5C%22http%3A//www.openstreetmap.org/copyright%5C%22%5Cu003eODbL%5Cu003c/a%5Cu003e.%22%2C%20%22detectRetina%22%3A%20false%2C%20%22maxNativeZoom%22%3A%2018%2C%20%22maxZoom%22%3A%2018%2C%20%22minZoom%22%3A%200%2C%20%22noWrap%22%3A%20false%2C%20%22opacity%22%3A%201%2C%20%22subdomains%22%3A%20%22abc%22%2C%20%22tms%22%3A%20false%7D%0A%20%20%20%20%20%20%20%20%20%20%20%20%29.addTo%28map_55b739d1bf984c0487827dd0d57874f5%29%3B%0A%20%20%20%20%20%20%20%20%0A%20%20%20%20%0A%0A%20%20%20%20%20%20%20%20%20%20%20%20var%20times%20%3D%20%5B1%2C%202%2C%203%2C%204%2C%205%2C%206%2C%207%2C%208%2C%209%2C%2010%5D%3B%0A%0A%20%20%20%20%20%20%20%20%20%20%20%20map_55b739d1bf984c0487827dd0d57874f5.timeDimension%20%3D%20L.timeDimension%28%0A%20%20%20%20%20%20%20%20%20%20%20%20%20%20%20%20%7Btimes%20%3A%20times%2C%20currentTime%3A%20new%20Date%281%29%7D%0A%20%20%20%20%20%20%20%20%20%20%20%20%29%3B%0A%0A%20%20%20%20%20%20%20%20%20%20%20%20var%20heat_map_4d94f77b65ef4c5ca4a4414c9c007fedControl%20%3D%20new%20L.Control.TimeDimensionCustom%28%5B%271%27%2C%20%272%27%2C%20%273%27%2C%20%274%27%2C%20%275%27%2C%20%276%27%2C%20%277%27%2C%20%278%27%2C%20%279%27%2C%20%2710%27%5D%2C%20%7B%0A%20%20%20%20%20%20%20%20%20%20%20%20%20%20%20%20autoPlay%3A%20true%2C%0A%20%20%20%20%20%20%20%20%20%20%20%20%20%20%20%20backwardButton%3A%20true%2C%0A%20%20%20%20%20%20%20%20%20%20%20%20%20%20%20%20displayDate%3A%20true%2C%0A%20%20%20%20%20%20%20%20%20%20%20%20%20%20%20%20forwardButton%3A%20true%2C%0A%20%20%20%20%20%20%20%20%20%20%20%20%20%20%20%20limitMinimumRange%3A%205%2C%0A%20%20%20%20%20%20%20%20%20%20%20%20%20%20%20%20limitSliders%3A%20true%2C%0A%20%20%20%20%20%20%20%20%20%20%20%20%20%20%20%20loopButton%3A%20true%2C%0A%20%20%20%20%20%20%20%20%20%20%20%20%20%20%20%20maxSpeed%3A%2010%2C%0A%20%20%20%20%20%20%20%20%20%20%20%20%20%20%20%20minSpeed%3A%200.1%2C%0A%20%20%20%20%20%20%20%20%20%20%20%20%20%20%20%20playButton%3A%20true%2C%0A%20%20%20%20%20%20%20%20%20%20%20%20%20%20%20%20playReverseButton%3A%20true%2C%0A%20%20%20%20%20%20%20%20%20%20%20%20%20%20%20%20position%3A%20%22bottomleft%22%2C%0A%20%20%20%20%20%20%20%20%20%20%20%20%20%20%20%20speedSlider%3A%20true%2C%0A%20%20%20%20%20%20%20%20%20%20%20%20%20%20%20%20speedStep%3A%200.1%2C%0A%20%20%20%20%20%20%20%20%20%20%20%20%20%20%20%20styleNS%3A%20%22leaflet-control-timecontrol%22%2C%0A%20%20%20%20%20%20%20%20%20%20%20%20%20%20%20%20timeSlider%3A%20true%2C%0A%20%20%20%20%20%20%20%20%20%20%20%20%20%20%20%20timeSliderDrapUpdate%3A%20false%2C%0A%20%20%20%20%20%20%20%20%20%20%20%20%20%20%20%20timeSteps%3A%201%0A%20%20%20%20%20%20%20%20%20%20%20%20%20%20%20%20%7D%29%0A%20%20%20%20%20%20%20%20%20%20%20%20%20%20%20%20.addTo%28map_55b739d1bf984c0487827dd0d57874f5%29%3B%0A%0A%20%20%20%20%20%20%20%20%20%20%20%20%20%20%20%20var%20heat_map_4d94f77b65ef4c5ca4a4414c9c007fed%20%3D%20new%20TDHeatmap%28%5B%5B%5B38.655%2C%20-28.069%5D%2C%20%5B38.655%2C%20-28.074%5D%2C%20%5B38.656%2C%20-28.084%5D%2C%20%5B38.646%2C%20-28.066%5D%2C%20%5B38.65%2C%20-28.077%5D%2C%20%5B38.654%2C%20-28.079%5D%2C%20%5B38.649%2C%20-28.075%5D%2C%20%5B38.651%2C%20-28.081%5D%2C%20%5B38.633%2C%20-28.072%5D%2C%20%5B38.664%2C%20-28.129%5D%2C%20%5B38.661%2C%20-28.084%5D%2C%20%5B38.665%2C%20-28.129%5D%2C%20%5B38.665%2C%20-28.129%5D%2C%20%5B38.671%2C%20-28.129%5D%2C%20%5B38.668%2C%20-28.129%5D%2C%20%5B38.678%2C%20-28.132%5D%2C%20%5B38.701%2C%20-28.126%5D%2C%20%5B38.653%2C%20-28.099%5D%2C%20%5B38.669%2C%20-28.142%5D%2C%20%5B38.669%2C%20-28.143%5D%2C%20%5B38.668%2C%20-28.144%5D%2C%20%5B38.669%2C%20-28.141%5D%2C%20%5B38.696%2C%20-28.164%5D%2C%20%5B38.666%2C%20-28.119%5D%2C%20%5B38.673%2C%20-28.145%5D%2C%20%5B38.68%2C%20-28.128%5D%2C%20%5B38.684%2C%20-28.149%5D%2C%20%5B38.663%2C%20-28.123%5D%2C%20%5B38.665%2C%20-28.12%5D%2C%20%5B38.657%2C%20-28.106%5D%2C%20%5B38.67%2C%20-28.122%5D%2C%20%5B38.651%2C%20-28.079%5D%2C%20%5B38.678%2C%20-28.117%5D%2C%20%5B38.685%2C%20-28.122%5D%2C%20%5B38.666%2C%20-28.12%5D%2C%20%5B38.686%2C%20-28.191%5D%2C%20%5B38.702%2C%20-28.196%5D%2C%20%5B37.612%2C%20-25.268%5D%2C%20%5B38.652%2C%20-28.07%5D%2C%20%5B38.694%2C%20-28.185%5D%2C%20%5B38.653%2C%20-28.051%5D%2C%20%5B38.649%2C%20-28.056%5D%2C%20%5B38.643%2C%20-28.05%5D%2C%20%5B38.649%2C%20-28.053%5D%2C%20%5B38.648%2C%20-28.044%5D%2C%20%5B38.694%2C%20-28.227%5D%2C%20%5B38.685%2C%20-28.215%5D%2C%20%5B38.684%2C%20-28.214%5D%2C%20%5B38.683%2C%20-28.198%5D%2C%20%5B38.694%2C%20-28.22%5D%2C%20%5B38.696%2C%20-28.213%5D%2C%20%5B38.691%2C%20-28.214%5D%2C%20%5B38.69%2C%20-28.207%5D%2C%20%5B38.696%2C%20-28.222%5D%2C%20%5B38.687%2C%20-28.209%5D%2C%20%5B38.688%2C%20-28.201%5D%2C%20%5B38.685%2C%20-28.216%5D%2C%20%5B38.696%2C%20-28.219%5D%2C%20%5B38.684%2C%20-28.195%5D%2C%20%5B38.693%2C%20-28.218%5D%2C%20%5B38.703%2C%20-28.228%5D%2C%20%5B38.688%2C%20-28.216%5D%2C%20%5B38.698%2C%20-28.222%5D%2C%20%5B38.695%2C%20-28.219%5D%2C%20%5B38.681%2C%20-28.227%5D%2C%20%5B38.687%2C%20-28.184%5D%2C%20%5B38.693%2C%20-28.216%5D%2C%20%5B38.69%2C%20-28.206%5D%2C%20%5B38.692%2C%20-28.193%5D%2C%20%5B37.582%2C%20-25.294%5D%2C%20%5B38.683%2C%20-28.215%5D%2C%20%5B38.695%2C%20-28.22%5D%5D%2C%20%5B%5B38.639%2C%20-28.024%5D%2C%20%5B38.699%2C%20-28.223%5D%2C%20%5B38.639%2C%20-28.044%5D%2C%20%5B38.691%2C%20-28.208%5D%2C%20%5B38.69%2C%20-28.207%5D%2C%20%5B38.684%2C%20-28.169%5D%2C%20%5B38.68%2C%20-28.207%5D%2C%20%5B38.687%2C%20-28.198%5D%2C%20%5B38.699%2C%20-28.235%5D%2C%20%5B38.682%2C%20-28.201%5D%2C%20%5B38.676%2C%20-28.168%5D%2C%20%5B38.682%2C%20-28.164%5D%2C%20%5B38.676%2C%20-28.186%5D%2C%20%5B38.678%2C%20-28.175%5D%2C%20%5B38.686%2C%20-28.181%5D%2C%20%5B38.685%2C%20-28.2%5D%2C%20%5B38.684%2C%20-28.179%5D%2C%20%5B38.684%2C%20-28.19%5D%2C%20%5B38.689%2C%20-28.185%5D%2C%20%5B38.671%2C%20-28.157%5D%2C%20%5B38.689%2C%20-28.183%5D%2C%20%5B38.694%2C%20-28.212%5D%2C%20%5B38.683%2C%20-28.178%5D%2C%20%5B38.688%2C%20-28.209%5D%2C%20%5B38.687%2C%20-28.216%5D%2C%20%5B38.677%2C%20-28.16%5D%2C%20%5B38.686%2C%20-28.194%5D%2C%20%5B38.681%2C%20-28.164%5D%2C%20%5B38.685%2C%20-28.174%5D%2C%20%5B38.687%2C%20-28.206%5D%2C%20%5B38.687%2C%20-28.184%5D%2C%20%5B38.688%2C%20-28.214%5D%2C%20%5B38.688%2C%20-28.209%5D%5D%2C%20%5B%5B38.704%2C%20-28.204%5D%2C%20%5B38.695%2C%20-28.21%5D%2C%20%5B38.689%2C%20-28.212%5D%2C%20%5B38.687%2C%20-28.197%5D%2C%20%5B38.691%2C%20-28.21%5D%2C%20%5B38.691%2C%20-28.199%5D%2C%20%5B38.691%2C%20-28.213%5D%2C%20%5B38.695%2C%20-28.217%5D%2C%20%5B38.696%2C%20-28.214%5D%2C%20%5B38.692%2C%20-28.215%5D%2C%20%5B38.69%2C%20-28.219%5D%2C%20%5B38.689%2C%20-28.207%5D%2C%20%5B38.683%2C%20-28.199%5D%2C%20%5B38.679%2C%20-28.176%5D%2C%20%5B38.703%2C%20-28.225%5D%2C%20%5B38.691%2C%20-28.193%5D%2C%20%5B38.69%2C%20-28.228%5D%2C%20%5B38.694%2C%20-28.22%5D%2C%20%5B38.685%2C%20-28.219%5D%2C%20%5B38.695%2C%20-28.222%5D%2C%20%5B38.689%2C%20-28.212%5D%2C%20%5B38.688%2C%20-28.176%5D%2C%20%5B38.694%2C%20-28.229%5D%2C%20%5B38.689%2C%20-28.157%5D%2C%20%5B38.687%2C%20-28.18%5D%2C%20%5B38.697%2C%20-28.186%5D%2C%20%5B38.691%2C%20-28.182%5D%2C%20%5B38.687%2C%20-28.193%5D%2C%20%5B38.692%2C%20-28.199%5D%2C%20%5B36.768%2C%20-23.835%5D%2C%20%5B38.693%2C%20-28.209%5D%2C%20%5B38.689%2C%20-28.177%5D%2C%20%5B38.681%2C%20-28.168%5D%2C%20%5B38.703%2C%20-28.202%5D%2C%20%5B38.702%2C%20-28.208%5D%2C%20%5B38.686%2C%20-28.174%5D%5D%2C%20%5B%5B38.679%2C%20-28.212%5D%2C%20%5B38.687%2C%20-28.196%5D%2C%20%5B38.684%2C%20-28.194%5D%2C%20%5B38.691%2C%20-28.214%5D%2C%20%5B38.69%2C%20-28.195%5D%2C%20%5B38.687%2C%20-28.176%5D%2C%20%5B38.691%2C%20-28.193%5D%2C%20%5B38.679%2C%20-28.173%5D%2C%20%5B38.68%2C%20-28.175%5D%2C%20%5B38.674%2C%20-28.149%5D%2C%20%5B38.689%2C%20-28.19%5D%2C%20%5B38.705%2C%20-28.218%5D%2C%20%5B38.703%2C%20-28.225%5D%2C%20%5B38.69%2C%20-28.175%5D%2C%20%5B38.704%2C%20-28.212%5D%2C%20%5B38.701%2C%20-28.221%5D%2C%20%5B38.689%2C%20-28.202%5D%2C%20%5B38.683%2C%20-28.223%5D%2C%20%5B38.697%2C%20-28.185%5D%2C%20%5B38.694%2C%20-28.215%5D%2C%20%5B38.678%2C%20-28.179%5D%2C%20%5B38.685%2C%20-28.191%5D%2C%20%5B38.681%2C%20-28.145%5D%2C%20%5B38.694%2C%20-28.203%5D%2C%20%5B38.693%2C%20-28.177%5D%2C%20%5B38.682%2C%20-28.177%5D%2C%20%5B38.692%2C%20-28.219%5D%2C%20%5B38.676%2C%20-28.157%5D%2C%20%5B38.694%2C%20-28.204%5D%2C%20%5B38.697%2C%20-28.216%5D%2C%20%5B38.683%2C%20-28.221%5D%2C%20%5B38.695%2C%20-28.197%5D%2C%20%5B38.69%2C%20-28.191%5D%5D%2C%20%5B%5B38.696%2C%20-28.217%5D%2C%20%5B38.681%2C%20-28.176%5D%2C%20%5B38.677%2C%20-28.154%5D%2C%20%5B38.689%2C%20-28.185%5D%2C%20%5B38.675%2C%20-28.157%5D%2C%20%5B38.702%2C%20-28.216%5D%2C%20%5B38.69%2C%20-28.18%5D%2C%20%5B38.691%2C%20-28.179%5D%2C%20%5B38.693%2C%20-28.19%5D%2C%20%5B38.693%2C%20-28.186%5D%2C%20%5B36.844%2C%20-24.603%5D%2C%20%5B38.687%2C%20-28.193%5D%2C%20%5B38.686%2C%20-28.213%5D%2C%20%5B38.683%2C%20-28.147%5D%2C%20%5B38.67%2C%20-28.14%5D%2C%20%5B37.564%2C%20-25.32%5D%2C%20%5B38.693%2C%20-28.213%5D%2C%20%5B38.693%2C%20-28.204%5D%2C%20%5B38.694%2C%20-28.211%5D%2C%20%5B37.99%2C%20-26.374%5D%2C%20%5B38.69%2C%20-28.224%5D%2C%20%5B38.678%2C%20-28.148%5D%2C%20%5B38.689%2C%20-28.205%5D%2C%20%5B38.675%2C%20-28.153%5D%2C%20%5B38.694%2C%20-28.212%5D%2C%20%5B38.698%2C%20-28.18%5D%2C%20%5B38.682%2C%20-28.198%5D%2C%20%5B38.699%2C%20-28.206%5D%2C%20%5B38.691%2C%20-28.182%5D%2C%20%5B38.694%2C%20-28.185%5D%2C%20%5B38.699%2C%20-28.215%5D%2C%20%5B38.679%2C%20-28.152%5D%2C%20%5B38.694%2C%20-28.202%5D%2C%20%5B38.691%2C%20-28.191%5D%2C%20%5B38.671%2C%20-28.146%5D%2C%20%5B38.675%2C%20-28.152%5D%2C%20%5B38.674%2C%20-28.143%5D%2C%20%5B38.69%2C%20-28.198%5D%2C%20%5B38.685%2C%20-28.203%5D%2C%20%5B38.693%2C%20-28.209%5D%2C%20%5B38.696%2C%20-28.211%5D%2C%20%5B38.694%2C%20-28.219%5D%2C%20%5B38.687%2C%20-28.227%5D%5D%2C%20%5B%5B38.675%2C%20-28.158%5D%2C%20%5B38.692%2C%20-28.215%5D%2C%20%5B38.705%2C%20-28.203%5D%2C%20%5B38.707%2C%20-28.201%5D%2C%20%5B38.695%2C%20-28.205%5D%2C%20%5B38.686%2C%20-28.155%5D%2C%20%5B38.691%2C%20-28.175%5D%2C%20%5B38.699%2C%20-28.205%5D%2C%20%5B38.692%2C%20-28.207%5D%2C%20%5B38.684%2C%20-28.184%5D%2C%20%5B38.686%2C%20-28.179%5D%2C%20%5B38.675%2C%20-28.143%5D%2C%20%5B38.682%2C%20-28.156%5D%2C%20%5B38.673%2C%20-28.153%5D%2C%20%5B38.669%2C%20-28.158%5D%2C%20%5B38.69%2C%20-28.212%5D%2C%20%5B38.687%2C%20-28.193%5D%2C%20%5B38.693%2C%20-28.207%5D%2C%20%5B38.683%2C%20-28.193%5D%2C%20%5B38.669%2C%20-28.152%5D%2C%20%5B38.688%2C%20-28.202%5D%2C%20%5B38.688%2C%20-28.204%5D%2C%20%5B38.691%2C%20-28.184%5D%2C%20%5B38.692%2C%20-28.194%5D%2C%20%5B38.675%2C%20-28.144%5D%2C%20%5B38.675%2C%20-28.155%5D%2C%20%5B38.688%2C%20-28.201%5D%2C%20%5B38.679%2C%20-28.154%5D%2C%20%5B38.672%2C%20-28.139%5D%2C%20%5B38.686%2C%20-28.203%5D%2C%20%5B38.692%2C%20-28.204%5D%2C%20%5B38.694%2C%20-28.201%5D%2C%20%5B38.686%2C%20-28.192%5D%2C%20%5B38.676%2C%20-28.148%5D%2C%20%5B38.671%2C%20-28.151%5D%2C%20%5B38.692%2C%20-28.181%5D%2C%20%5B38.693%2C%20-28.226%5D%2C%20%5B38.688%2C%20-28.207%5D%5D%2C%20%5B%5B38.696%2C%20-28.211%5D%2C%20%5B38.672%2C%20-28.148%5D%2C%20%5B38.693%2C%20-28.205%5D%2C%20%5B38.685%2C%20-28.16%5D%2C%20%5B38.683%2C%20-28.19%5D%2C%20%5B38.695%2C%20-28.206%5D%2C%20%5B38.687%2C%20-28.203%5D%2C%20%5B38.69%2C%20-28.21%5D%2C%20%5B37.664%2C%20-24.746%5D%2C%20%5B38.675%2C%20-28.153%5D%2C%20%5B38.674%2C%20-28.147%5D%2C%20%5B38.692%2C%20-28.203%5D%2C%20%5B38.691%2C%20-28.203%5D%2C%20%5B38.696%2C%20-28.205%5D%2C%20%5B38.681%2C%20-28.158%5D%2C%20%5B38.678%2C%20-28.153%5D%2C%20%5B38.687%2C%20-28.182%5D%2C%20%5B38.674%2C%20-28.153%5D%2C%20%5B38.699%2C%20-28.199%5D%2C%20%5B38.688%2C%20-28.193%5D%2C%20%5B38.694%2C%20-28.202%5D%2C%20%5B38.684%2C%20-28.208%5D%2C%20%5B38.693%2C%20-28.205%5D%5D%2C%20%5B%5B38.676%2C%20-28.144%5D%2C%20%5B38.687%2C%20-28.203%5D%2C%20%5B38.694%2C%20-28.207%5D%2C%20%5B38.668%2C%20-28.151%5D%2C%20%5B38.688%2C%20-28.181%5D%2C%20%5B38.679%2C%20-28.154%5D%2C%20%5B38.678%2C%20-28.149%5D%2C%20%5B38.676%2C%20-28.149%5D%2C%20%5B38.686%2C%20-28.189%5D%2C%20%5B38.688%2C%20-28.19%5D%2C%20%5B38.676%2C%20-28.145%5D%2C%20%5B38.675%2C%20-28.148%5D%2C%20%5B38.675%2C%20-28.146%5D%2C%20%5B38.673%2C%20-28.15%5D%2C%20%5B38.686%2C%20-28.21%5D%2C%20%5B38.677%2C%20-28.133%5D%2C%20%5B38.678%2C%20-28.145%5D%2C%20%5B38.675%2C%20-28.151%5D%2C%20%5B38.676%2C%20-28.142%5D%2C%20%5B38.692%2C%20-28.194%5D%2C%20%5B38.684%2C%20-28.19%5D%5D%2C%20%5B%5B38.69%2C%20-28.227%5D%2C%20%5B37.711%2C%20-24.669%5D%2C%20%5B38.688%2C%20-28.187%5D%2C%20%5B38.691%2C%20-28.195%5D%2C%20%5B38.675%2C%20-28.138%5D%2C%20%5B38.677%2C%20-28.144%5D%2C%20%5B38.676%2C%20-28.149%5D%2C%20%5B38.676%2C%20-28.142%5D%2C%20%5B37.472%2C%20-24.996%5D%5D%2C%20%5B%5B38.672%2C%20-28.128%5D%2C%20%5B38.688%2C%20-28.199%5D%2C%20%5B38.689%2C%20-28.199%5D%2C%20%5B38.688%2C%20-28.198%5D%2C%20%5B38.677%2C%20-28.142%5D%2C%20%5B38.694%2C%20-28.195%5D%2C%20%5B38.691%2C%20-28.192%5D%2C%20%5B38.693%2C%20-28.194%5D%2C%20%5B38.688%2C%20-28.197%5D%2C%20%5B38.677%2C%20-28.16%5D%2C%20%5B38.679%2C%20-28.139%5D%2C%20%5B38.692%2C%20-28.185%5D%2C%20%5B38.683%2C%20-28.204%5D%2C%20%5B38.678%2C%20-28.148%5D%2C%20%5B38.692%2C%20-28.193%5D%2C%20%5B38.71%2C%20-28.192%5D%2C%20%5B38.695%2C%20-28.203%5D%5D%5D%2C%0A%20%20%20%20%20%20%20%20%20%20%20%20%20%20%20%20%7BheatmapOptions%3A%20%7B%0A%20%20%20%20%20%20%20%20%20%20%20%20%20%20%20%20%20%20%20%20%20%20%20%20radius%3A%2015%2C%0A%20%20%20%20%20%20%20%20%20%20%20%20%20%20%20%20%20%20%20%20%20%20%20%20minOpacity%3A%200%2C%0A%20%20%20%20%20%20%20%20%20%20%20%20%20%20%20%20%20%20%20%20%20%20%20%20maxOpacity%3A%200.8%2C%0A%20%20%20%20%20%20%20%20%20%20%20%20%20%20%20%20%20%20%20%20%20%20%20%20scaleRadius%3A%20false%2C%0A%20%20%20%20%20%20%20%20%20%20%20%20%20%20%20%20%20%20%20%20%20%20%20%20useLocalExtrema%3A%20false%2C%0A%20%20%20%20%20%20%20%20%20%20%20%20%20%20%20%20%20%20%20%20%20%20%20%20defaultWeight%3A%201%2C%0A%20%20%20%20%20%20%20%20%20%20%20%20%20%20%20%20%20%20%20%20%20%20%20%20%0A%20%20%20%20%20%20%20%20%20%20%20%20%20%20%20%20%20%20%20%20%7D%0A%20%20%20%20%20%20%20%20%20%20%20%20%20%20%20%20%7D%29%0A%20%20%20%20%20%20%20%20%20%20%20%20%20%20%20%20.addTo%28map_55b739d1bf984c0487827dd0d57874f5%29%3B%0A%0A%20%20%20%20%20%20%20%20%0A%3C/script%3E onload=\"this.contentDocument.open();this.contentDocument.write(    decodeURIComponent(this.getAttribute('data-html')));this.contentDocument.close();\" \"allowfullscreen\" \"webkitallowfullscreen\" \"mozallowfullscreen\"></iframe>"
      ],
      "text/plain": [
       "<branca.element.Figure at 0x2054bafb550>"
      ]
     },
     "execution_count": 47,
     "metadata": {},
     "output_type": "execute_result"
    }
   ],
   "source": [
    "fig = Figure(width=600, height=400)\n",
    "map_hooray = folium.Map(location=SAO_JORGE_COORDINATES, zoom_start=12)\n",
    "\n",
    "# Filter the DF for rows, then columns, then remove NaNs\n",
    "heat_df = st_jorge_crisis_df[['lat', 'lon', 'time_bin']]\n",
    "max_time_bin = st_jorge_crisis_df[\"time_bin\"].max()\n",
    "\n",
    "\n",
    "# List comprehension to make out list of lists\n",
    "heat_data = [[[row['lat'],row['lon']] for index, row in heat_df[heat_df['time_bin'] == i].iterrows()] for i in range(max_time_bin+1)]\n",
    "\n",
    "# Plot it on the map\n",
    "hm = HeatMapWithTime(heat_data,auto_play=True,max_opacity=0.8)\n",
    "hm.add_to(map_hooray)\n",
    "\n",
    "# Display the map\n",
    "fig.add_child(map_hooray)"
   ]
  },
  {
   "cell_type": "code",
   "execution_count": null,
   "metadata": {},
   "outputs": [],
   "source": []
  }
 ],
 "metadata": {
  "interpreter": {
   "hash": "904ea2ff737b8c623c594355d45930b4e8367ac68f8cc46e3535b3498c6a623a"
  },
  "kernelspec": {
   "display_name": "Python 3.10.2 64-bit",
   "language": "python",
   "name": "python3"
  },
  "language_info": {
   "codemirror_mode": {
    "name": "ipython",
    "version": 3
   },
   "file_extension": ".py",
   "mimetype": "text/x-python",
   "name": "python",
   "nbconvert_exporter": "python",
   "pygments_lexer": "ipython3",
   "version": "3.10.2"
  },
  "orig_nbformat": 4
 },
 "nbformat": 4,
 "nbformat_minor": 2
}
